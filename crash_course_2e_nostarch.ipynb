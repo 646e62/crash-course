{
  "nbformat": 4,
  "nbformat_minor": 0,
  "metadata": {
    "colab": {
      "name": "crash_course_2e_nostarch.ipynb",
      "provenance": [],
      "collapsed_sections": [
        "pxQPLA2ryP1K",
        "0Km8BTvlEV5-",
        "sRjAOrhTvyuB",
        "7ohVz5m23Fjw",
        "x9qgeDOYAoi8"
      ],
      "include_colab_link": true
    },
    "kernelspec": {
      "name": "python3",
      "display_name": "Python 3"
    },
    "accelerator": "GPU"
  },
  "cells": [
    {
      "cell_type": "markdown",
      "metadata": {
        "id": "view-in-github",
        "colab_type": "text"
      },
      "source": [
        "<a href=\"https://colab.research.google.com/github/646e62/crash-course/blob/master/crash_course_2e_nostarch.ipynb\" target=\"_parent\"><img src=\"https://colab.research.google.com/assets/colab-badge.svg\" alt=\"Open In Colab\"/></a>"
      ]
    },
    {
      "cell_type": "markdown",
      "metadata": {
        "id": "4koTj4uRuz1x",
        "colab_type": "text"
      },
      "source": [
        "# Python Crash Course: 2e\n",
        "**Date started**: 2019_12_19\n",
        "\n",
        "This notebook goes through the Python Crash Course 2e lessons, with code and notes as needed. \n",
        "## Chapter 1: introduction\n",
        "All the basics re installing Python, as well as the hello_world program\n",
        "### hello_world"
      ]
    },
    {
      "cell_type": "code",
      "metadata": {
        "id": "ebD5aq1jvrHp",
        "colab_type": "code",
        "outputId": "e0f1eb21-6474-474f-dd58-86979d3b0a4c",
        "colab": {
          "base_uri": "https://localhost:8080/",
          "height": 35
        }
      },
      "source": [
        "print(\"Hello world!\")"
      ],
      "execution_count": 0,
      "outputs": [
        {
          "output_type": "stream",
          "text": [
            "Hello world!\n"
          ],
          "name": "stdout"
        }
      ]
    },
    {
      "cell_type": "markdown",
      "metadata": {
        "id": "F0cOGPmgv1s3",
        "colab_type": "text"
      },
      "source": [
        "### **TIY 1-3: Infinite skills exercise**\n",
        " **A good location for an ideas list/notebook**\n",
        "\n",
        "* Web-based version of the HTA jeopardy calculator, updated to include the new *CC* section numbers\n",
        "* Criminal record database, with functionality including\n",
        "    * Search functionality\n",
        "    * Jeopardy approximation (advanced)\n",
        "* Cash vs LAM file database, with functionality including ...\n",
        "* Financial projection program:\n",
        "    * Anticipated financial return\n",
        "    * Date of expected return\n",
        "    * Files needing dates set\n",
        "    * Balances owing\n",
        "\n"
      ]
    },
    {
      "cell_type": "markdown",
      "metadata": {
        "id": "pxQPLA2ryP1K",
        "colab_type": "text"
      },
      "source": [
        "## Chapter 2: variables and simple data types\n",
        "### hello_world (variable version)"
      ]
    },
    {
      "cell_type": "code",
      "metadata": {
        "id": "l-pTCOSZzDSN",
        "colab_type": "code",
        "outputId": "37a222ac-148f-4d44-ceae-3b9c54736e3c",
        "colab": {
          "base_uri": "https://localhost:8080/",
          "height": 53
        }
      },
      "source": [
        "message = \"Hello world!\"\n",
        "print(message)\n",
        "\n",
        "message = \"Hello Crash Course world!\"\n",
        "print(message)"
      ],
      "execution_count": 0,
      "outputs": [
        {
          "output_type": "stream",
          "text": [
            "Hello world!\n",
            "Hello Crash Course world!\n"
          ],
          "name": "stdout"
        }
      ]
    },
    {
      "cell_type": "markdown",
      "metadata": {
        "id": "FZ2jTBB8zH9P",
        "colab_type": "text"
      },
      "source": [
        "### name.py (strings and string methods)\n",
        "The name.py program uses string methods to alter the string characters. These methods include:\n",
        "* title(): capitalizes the first letter of each word while ensuring that all subsequent letters are lowercase\n",
        "* upper(): renders all letters in the string as uppercase\n",
        "* lower(): renders all letters in the string as lowercase"
      ]
    },
    {
      "cell_type": "code",
      "metadata": {
        "id": "DEnSIx1OBir-",
        "colab_type": "code",
        "outputId": "81fca2e5-7428-49f1-de85-96ace6e9058f",
        "colab": {
          "base_uri": "https://localhost:8080/",
          "height": 89
        }
      },
      "source": [
        "name = \"adA lovelacE\"\n",
        "print(name)\n",
        "print(name.title())\n",
        "print(name.upper())\n",
        "print(name.lower())"
      ],
      "execution_count": 0,
      "outputs": [
        {
          "output_type": "stream",
          "text": [
            "adA lovelacE\n",
            "Ada Lovelace\n",
            "ADA LOVELACE\n",
            "ada lovelace\n"
          ],
          "name": "stdout"
        }
      ]
    },
    {
      "cell_type": "markdown",
      "metadata": {
        "id": "KSYqly-WBsBR",
        "colab_type": "text"
      },
      "source": [
        "### full_name.py\n",
        "Combines two strings using f-string functionality, then capitalizes the result. For simplicity, I removed the \"full_name\" variable suggested by the book, opting to directly print the f-string instead."
      ]
    },
    {
      "cell_type": "code",
      "metadata": {
        "id": "Hx55uQw0EFzh",
        "colab_type": "code",
        "outputId": "43b8efac-309e-40f4-c820-1d42ff34123b",
        "colab": {
          "base_uri": "https://localhost:8080/",
          "height": 35
        }
      },
      "source": [
        "first_name = \"ada\"\n",
        "last_name = \"lovelace\"\n",
        "print((f\"{first_name} {last_name}\").title())"
      ],
      "execution_count": 0,
      "outputs": [
        {
          "output_type": "stream",
          "text": [
            "Ada Lovelace\n"
          ],
          "name": "stdout"
        }
      ]
    },
    {
      "cell_type": "markdown",
      "metadata": {
        "id": "0Km8BTvlEV5-",
        "colab_type": "text"
      },
      "source": [
        "## Chapter 3: introducing lists\n",
        "### bicycles.py\n",
        "* Simple list example program."
      ]
    },
    {
      "cell_type": "code",
      "metadata": {
        "id": "WFogZfe-PdFG",
        "colab_type": "code",
        "outputId": "e348c97e-6bd7-43dc-ac48-f6e2fef8eb45",
        "colab": {
          "base_uri": "https://localhost:8080/",
          "height": 71
        }
      },
      "source": [
        "bicycles = [\"trek\", \"cannondale\", \"redline\", \"specialized\"]\n",
        "print(bicycles)\n",
        "print(bicycles[0].title())\n",
        "print(f\"My first bicycle was a {bicycles[-2].title()}.\")"
      ],
      "execution_count": 0,
      "outputs": [
        {
          "output_type": "stream",
          "text": [
            "['trek', 'cannondale', 'redline', 'specialized']\n",
            "Trek\n",
            "My first bicycle was a Redline.\n"
          ],
          "name": "stdout"
        }
      ]
    },
    {
      "cell_type": "markdown",
      "metadata": {
        "id": "zv2LQE0XP_Dx",
        "colab_type": "text"
      },
      "source": [
        "### motorcyles.py\n",
        "* Demonstrates the ability to modify lists by adding & subtracting elements"
      ]
    },
    {
      "cell_type": "code",
      "metadata": {
        "id": "nzk7jhfbTWao",
        "colab_type": "code",
        "outputId": "00f208da-1667-4df7-b424-2cd0b5d59135",
        "colab": {
          "base_uri": "https://localhost:8080/",
          "height": 107
        }
      },
      "source": [
        "motorcycles = [\"honda\", \"yamaha\", \"suzuki\"]\n",
        "print(motorcycles)\n",
        "\n",
        "# Adds an item to the list\n",
        "motorcycles.append(\"ducati\")\n",
        "print(motorcycles)\n",
        "\n",
        "# Removes and utilizes an item of the list\n",
        "# May be used with or without arguments\n",
        "# Last item on the list is default if no arguments are passed\n",
        "popped_motorcycles = motorcycles.pop(1)\n",
        "print(popped_motorcycles)\n",
        "print(motorcycles)\n",
        "\n",
        "# motorcycles.remove(\"ducati\") didn't seem to work\n",
        "too_expensive = \"ducati\"\n",
        "motorcycles.remove(too_expensive)\n",
        "print(motorcycles)"
      ],
      "execution_count": 0,
      "outputs": [
        {
          "output_type": "stream",
          "text": [
            "['honda', 'yamaha', 'suzuki']\n",
            "['honda', 'yamaha', 'suzuki', 'ducati']\n",
            "yamaha\n",
            "['honda', 'suzuki', 'ducati']\n",
            "['honda', 'suzuki']\n"
          ],
          "name": "stdout"
        }
      ]
    },
    {
      "cell_type": "markdown",
      "metadata": {
        "id": "JBIDKLdRXPam",
        "colab_type": "text"
      },
      "source": [
        "### cars.py\n",
        "* Demonstrates the sort() method and sorted() function on a list\n",
        "\n"
      ]
    },
    {
      "cell_type": "code",
      "metadata": {
        "id": "XrIcaZkzvPt-",
        "colab_type": "code",
        "outputId": "b328cebf-92da-481c-cd4c-ca5b02845838",
        "colab": {
          "base_uri": "https://localhost:8080/",
          "height": 161
        }
      },
      "source": [
        "cars = [\"bmw\", \"audi\", \"toyota\", \"subaru\"]\n",
        "print(cars)\n",
        "\n",
        "# Sorts the list alphabetically\n",
        "cars.sort()\n",
        "print(cars)\n",
        "\n",
        "# Sorts the list in reverse alphabetical order\n",
        "cars.sort(reverse = True)\n",
        "print(cars)\n",
        "\n",
        "# Sorts the list without modifying\n",
        "print(sorted(cars))\n",
        "print(cars)\n",
        "\n",
        "# Reverse the list order\n",
        "cars.append(\"yugo\")\n",
        "print(cars)\n",
        "cars.reverse()\n",
        "print(cars)\n",
        "\n",
        "# Find the length of a list using len()\n",
        "print(len(cars))"
      ],
      "execution_count": 0,
      "outputs": [
        {
          "output_type": "stream",
          "text": [
            "['bmw', 'audi', 'toyota', 'subaru']\n",
            "['audi', 'bmw', 'subaru', 'toyota']\n",
            "['toyota', 'subaru', 'bmw', 'audi']\n",
            "['audi', 'bmw', 'subaru', 'toyota']\n",
            "['toyota', 'subaru', 'bmw', 'audi']\n",
            "['toyota', 'subaru', 'bmw', 'audi', 'yugo']\n",
            "['yugo', 'audi', 'bmw', 'subaru', 'toyota']\n",
            "5\n"
          ],
          "name": "stdout"
        }
      ]
    },
    {
      "cell_type": "markdown",
      "metadata": {
        "id": "sRjAOrhTvyuB",
        "colab_type": "text"
      },
      "source": [
        "## **TIY 3-8**"
      ]
    },
    {
      "cell_type": "code",
      "metadata": {
        "id": "3CDqi8Qi1ecM",
        "colab_type": "code",
        "outputId": "cddd94ac-e29e-4469-e75a-31192ee34e8a",
        "colab": {
          "base_uri": "https://localhost:8080/",
          "height": 161
        }
      },
      "source": [
        "locations = [\"Iqaluit\", \"Tokyo\", \"Montreal\", \"Amsterdam\", \"Honolulu\"]\n",
        "\n",
        "print(locations)\n",
        "\n",
        "print(sorted(locations))\n",
        "print(locations)\n",
        "\n",
        "print(sorted(locations, reverse = True))\n",
        "print(locations)\n",
        "\n",
        "locations.reverse()\n",
        "print(locations)\n",
        "\n",
        "locations.sort()\n",
        "print(locations)\n",
        "\n",
        "locations.sort(reverse = True)\n",
        "print(locations)"
      ],
      "execution_count": 0,
      "outputs": [
        {
          "output_type": "stream",
          "text": [
            "['Iqaluit', 'Tokyo', 'Montreal', 'Amsterdam', 'Honolulu']\n",
            "['Amsterdam', 'Honolulu', 'Iqaluit', 'Montreal', 'Tokyo']\n",
            "['Iqaluit', 'Tokyo', 'Montreal', 'Amsterdam', 'Honolulu']\n",
            "['Tokyo', 'Montreal', 'Iqaluit', 'Honolulu', 'Amsterdam']\n",
            "['Iqaluit', 'Tokyo', 'Montreal', 'Amsterdam', 'Honolulu']\n",
            "['Honolulu', 'Amsterdam', 'Montreal', 'Tokyo', 'Iqaluit']\n",
            "['Amsterdam', 'Honolulu', 'Iqaluit', 'Montreal', 'Tokyo']\n",
            "['Tokyo', 'Montreal', 'Iqaluit', 'Honolulu', 'Amsterdam']\n"
          ],
          "name": "stdout"
        }
      ]
    },
    {
      "cell_type": "markdown",
      "metadata": {
        "id": "7ohVz5m23Fjw",
        "colab_type": "text"
      },
      "source": [
        "## Chapter 4: working with lists\n",
        "### magicians.py\n",
        "* Demonstrates the for loop"
      ]
    },
    {
      "cell_type": "code",
      "metadata": {
        "id": "wSqXaj8Z24G1",
        "colab_type": "code",
        "outputId": "8e28d88c-e412-4e1e-a050-0144ed585fb4",
        "colab": {
          "base_uri": "https://localhost:8080/",
          "height": 89
        }
      },
      "source": [
        "magicians = [\"david\", \"alice\", \"carolina\"]\n",
        "\n",
        "print(\"Magicians:\")\n",
        "for magician in magicians:\n",
        "    print(f\"[{int(magicians.index(magician)) + 1}] {magician.title()}\")"
      ],
      "execution_count": 0,
      "outputs": [
        {
          "output_type": "stream",
          "text": [
            "Magicians:\n",
            "[1] David\n",
            "[2] Alice\n",
            "[3] Carolina\n"
          ],
          "name": "stdout"
        }
      ]
    },
    {
      "cell_type": "markdown",
      "metadata": {
        "id": "zmlc_Qu86N_q",
        "colab_type": "text"
      },
      "source": [
        "### squares.py\n",
        "* Uses a for-range() loop to calculate square numbers and append them to a list\n",
        "* Uses a list comprehension to perform the same task\n",
        "* Runs some simple statistics functions:\n",
        "    * Mean\n",
        "    * Min\n",
        "    * Max"
      ]
    },
    {
      "cell_type": "code",
      "metadata": {
        "id": "ARGiJqyK6z4N",
        "colab_type": "code",
        "outputId": "20b00877-0152-4b43-db2b-a1b080cf70a8",
        "colab": {
          "base_uri": "https://localhost:8080/",
          "height": 107
        }
      },
      "source": [
        "from statistics import mean\n",
        "\n",
        "squares = []\n",
        "\n",
        "# for-range() loop\n",
        "for value in range(1, 25):\n",
        "    squares.append(value ** 2)\n",
        "print(squares)\n",
        "\n",
        "# list comprehension\n",
        "squares = [value ** 2 for value in range (1, 25)]\n",
        "print(squares, \"\\n\")\n",
        "\n",
        "print(mean(squares))\n",
        "print(min(squares), max(squares))"
      ],
      "execution_count": 0,
      "outputs": [
        {
          "output_type": "stream",
          "text": [
            "[1, 4, 9, 16, 25, 36, 49, 64, 81, 100, 121, 144, 169, 196, 225, 256, 289, 324, 361, 400, 441, 484, 529, 576]\n",
            "[1, 4, 9, 16, 25, 36, 49, 64, 81, 100, 121, 144, 169, 196, 225, 256, 289, 324, 361, 400, 441, 484, 529, 576] \n",
            "\n",
            "204.16666666666666\n",
            "1 576\n"
          ],
          "name": "stdout"
        }
      ]
    },
    {
      "cell_type": "markdown",
      "metadata": {
        "id": "x9qgeDOYAoi8",
        "colab_type": "text"
      },
      "source": [
        "## millions.py\n",
        "* Creates a list of whole numbers between 1 and 1_000_000 using a list comprehension\n",
        "* Sums all the values in the list"
      ]
    },
    {
      "cell_type": "code",
      "metadata": {
        "id": "9T-cVbweEjzO",
        "colab_type": "code",
        "outputId": "40433fa5-e556-4f74-b797-11b400d42437",
        "colab": {
          "base_uri": "https://localhost:8080/",
          "height": 53
        }
      },
      "source": [
        "millions = [value for value in range (1, 1_000_001)]\n",
        "print(min(millions), max(millions))\n",
        "print(sum(millions))"
      ],
      "execution_count": 0,
      "outputs": [
        {
          "output_type": "stream",
          "text": [
            "1 1000000\n",
            "500000500000\n"
          ],
          "name": "stdout"
        }
      ]
    },
    {
      "cell_type": "markdown",
      "metadata": {
        "id": "whlPJ0nzHlg5",
        "colab_type": "text"
      },
      "source": [
        "### cube_comprehension.py\n",
        "* Uses a list comprehension to create a list of the first ten cubes"
      ]
    },
    {
      "cell_type": "code",
      "metadata": {
        "id": "KdX4joPQJi0y",
        "colab_type": "code",
        "outputId": "b43b090a-908b-4d45-d47e-b1a9c35bf0d5",
        "colab": {
          "base_uri": "https://localhost:8080/",
          "height": 35
        }
      },
      "source": [
        "print([value ** 3 for value in range (1, 11)])"
      ],
      "execution_count": 0,
      "outputs": [
        {
          "output_type": "stream",
          "text": [
            "[1, 8, 27, 64, 125, 216, 343, 512, 729, 1000]\n"
          ],
          "name": "stdout"
        }
      ]
    },
    {
      "cell_type": "markdown",
      "metadata": {
        "id": "JlyXlwzyKFvJ",
        "colab_type": "text"
      },
      "source": [
        "### players.py\n",
        "* Demonstrates list slicing"
      ]
    },
    {
      "cell_type": "code",
      "metadata": {
        "id": "4lW5_R1oNz5z",
        "colab_type": "code",
        "outputId": "cd92a267-a62e-4258-9d0d-50655a597006",
        "colab": {
          "base_uri": "https://localhost:8080/",
          "height": 89
        }
      },
      "source": [
        "players = [\"john\", \"michael\", \"brandon\", \"leviticus\", \"zeldo\", \"abigail\"]\n",
        "print(players[0:3], players[1:5], players[::2])\n",
        "\n",
        "for player in players[::2]:\n",
        "    print(player.title())"
      ],
      "execution_count": 0,
      "outputs": [
        {
          "output_type": "stream",
          "text": [
            "['john', 'michael', 'brandon'] ['michael', 'brandon', 'leviticus', 'zeldo'] ['john', 'brandon', 'zeldo']\n",
            "John\n",
            "Brandon\n",
            "Zeldo\n"
          ],
          "name": "stdout"
        }
      ]
    },
    {
      "cell_type": "markdown",
      "metadata": {
        "id": "hme6EBexaq-4",
        "colab_type": "text"
      },
      "source": [
        "### foods.py\n",
        "* Demonstrates list copying using [:]\n",
        "\n"
      ]
    },
    {
      "cell_type": "code",
      "metadata": {
        "id": "I7kp955LbViG",
        "colab_type": "code",
        "outputId": "965aa3af-8041-48d8-c5ef-f66e598316cf",
        "colab": {
          "base_uri": "https://localhost:8080/",
          "height": 89
        }
      },
      "source": [
        "my_foods = [\"pizza\", \"carrot cake\", \"falafel\"]\n",
        "friend_foods = my_foods[:]\n",
        "\n",
        "# Demonstrates that a new list has been generated\n",
        "my_foods.append(\"cannoli\")\n",
        "friend_foods.append(\"ice cream\")\n",
        "print(f\"{my_foods}\\n{friend_foods}\")\n",
        "\n",
        "# The method below points both variables to the same list, rather than \n",
        "# generating a new list\n",
        "friend_foods = my_foods\n",
        "print(f\"{my_foods}\\n{friend_foods}\")"
      ],
      "execution_count": 0,
      "outputs": [
        {
          "output_type": "stream",
          "text": [
            "['pizza', 'carrot cake', 'falafel', 'cannoli']\n",
            "['pizza', 'carrot cake', 'falafel', 'ice cream']\n",
            "['pizza', 'carrot cake', 'falafel', 'cannoli']\n",
            "['pizza', 'carrot cake', 'falafel', 'cannoli']\n"
          ],
          "name": "stdout"
        }
      ]
    },
    {
      "cell_type": "markdown",
      "metadata": {
        "id": "_Rl5yFCybiq6",
        "colab_type": "text"
      },
      "source": [
        "### dimensions.py\n",
        "* Demonstrates the tuple data type"
      ]
    },
    {
      "cell_type": "code",
      "metadata": {
        "id": "8MLgzGxDjyHm",
        "colab_type": "code",
        "outputId": "e2a5a748-1790-4bac-8e93-eb145d691a50",
        "colab": {
          "base_uri": "https://localhost:8080/",
          "height": 71
        }
      },
      "source": [
        "dimensions = (200, 50)\n",
        "print(dimensions[0])\n",
        "print(dimensions[1])\n",
        "\n",
        "# Tuples are immutable, so changes require the variable to be reassigned\n",
        "dimensions = (400, 100)\n",
        "print(dimensions)"
      ],
      "execution_count": 0,
      "outputs": [
        {
          "output_type": "stream",
          "text": [
            "200\n",
            "50\n",
            "(400, 100)\n"
          ],
          "name": "stdout"
        }
      ]
    },
    {
      "cell_type": "markdown",
      "metadata": {
        "id": "443ZKhu89g5H",
        "colab_type": "text"
      },
      "source": [
        "## Chapter 5: if statements\n",
        "### cars.py\n",
        "* Provides a simple example of a conditional test"
      ]
    },
    {
      "cell_type": "code",
      "metadata": {
        "id": "Hm0_94TC9vdg",
        "colab_type": "code",
        "outputId": "7cfc6087-46e6-45a1-92d1-1c4ff0e268a6",
        "colab": {
          "base_uri": "https://localhost:8080/",
          "height": 89
        }
      },
      "source": [
        "cars = [\"audi\", \"bmw\", \"subaru\", \"toyota\"]\n",
        "\n",
        "for car in cars:\n",
        "    if car == \"bmw\":\n",
        "        print(car.upper())\n",
        "    else:\n",
        "        print(car.title())"
      ],
      "execution_count": 0,
      "outputs": [
        {
          "output_type": "stream",
          "text": [
            "Audi\n",
            "BMW\n",
            "Subaru\n",
            "Toyota\n"
          ],
          "name": "stdout"
        }
      ]
    },
    {
      "cell_type": "markdown",
      "metadata": {
        "id": "KmMRDhexC4iS",
        "colab_type": "text"
      },
      "source": [
        "## banned_users.py\n",
        "* Checks a list to determine whether it contains a value"
      ]
    },
    {
      "cell_type": "code",
      "metadata": {
        "id": "Uq9hMO4VDmyg",
        "colab_type": "code",
        "outputId": "e4556751-0dc0-4a96-84c4-1cf8f7f3eeca",
        "colab": {
          "base_uri": "https://localhost:8080/",
          "height": 35
        }
      },
      "source": [
        "banned_users = [\"andrew\", \"carolina\", \"david\"]\n",
        "user = \"marie\"\n",
        "\n",
        "if user not in banned_users:\n",
        "    print(f\"{user.title()} is not banned.\")"
      ],
      "execution_count": 0,
      "outputs": [
        {
          "output_type": "stream",
          "text": [
            "Marie is not banned.\n"
          ],
          "name": "stdout"
        }
      ]
    },
    {
      "cell_type": "markdown",
      "metadata": {
        "id": "CiaSmF3Vch0H",
        "colab_type": "text"
      },
      "source": [
        "### TIY 5-6\n",
        "* Conditional test with multiple conditions"
      ]
    },
    {
      "cell_type": "code",
      "metadata": {
        "id": "8WYe9us2cx8n",
        "colab_type": "code",
        "outputId": "8f034a17-6d0f-4095-e125-233207d451aa",
        "colab": {
          "base_uri": "https://localhost:8080/",
          "height": 53
        }
      },
      "source": [
        "age = int(input(\"Age: \"))\n",
        "\n",
        "if age >= 0 and age < 2:\n",
        "    print(\"Baby\")\n",
        "elif age >= 2 and age < 4:\n",
        "    print(\"Toddler\")\n",
        "elif age >= 4 and age < 13:\n",
        "    print(\"Kid\")\n",
        "elif age >= 13 and age < 20:\n",
        "    print(\"Teenager\")\n",
        "elif age >= 20 and age < 65:\n",
        "    print(\"Adult\")\n",
        "else:\n",
        "    print(\"Elder\")"
      ],
      "execution_count": 0,
      "outputs": [
        {
          "output_type": "stream",
          "text": [
            "Age: 2\n",
            "Toddler\n"
          ],
          "name": "stdout"
        }
      ]
    },
    {
      "cell_type": "markdown",
      "metadata": {
        "id": "eVVXFxmYh1N9",
        "colab_type": "text"
      },
      "source": [
        "### toppings.py\n",
        "* Example of a conditional test interacting with a list\n",
        "* Checks for an empty list"
      ]
    },
    {
      "cell_type": "code",
      "metadata": {
        "id": "Qsx7tU_siGpk",
        "colab_type": "code",
        "colab": {
          "base_uri": "https://localhost:8080/",
          "height": 125
        },
        "outputId": "b507ca2d-909f-4cff-a701-6b612d9b1a27"
      },
      "source": [
        "available_toppings = [\"mushrooms\", \"olives\", \"green peppers\", \"pepperoni\", \"pineapple\", \"extra cheese\"]\n",
        "requested_toppings = [\"mushrooms\", \"green peppers\", \"extra cheese\", \"french fries\"]\n",
        "# requested_toppings = []\n",
        "\n",
        "# Checks for an empty list\n",
        "if requested_toppings:\n",
        "\n",
        "    for requested_topping in requested_toppings:\n",
        "        if requested_topping in available_toppings:\n",
        "            print(f\"Adding {requested_topping}\")\n",
        "        else:\n",
        "            print(f\"Sorry, we don't have {requested_topping}\")\n",
        "\n",
        "else:\n",
        "    print(\"Plain pizza\")\n",
        "\n",
        "print(\"\\nFinished making the pizza\")"
      ],
      "execution_count": 10,
      "outputs": [
        {
          "output_type": "stream",
          "text": [
            "Adding mushrooms\n",
            "Adding green peppers\n",
            "Adding extra cheese\n",
            "Sorry, we don't have french fries\n",
            "\n",
            "Finished making the pizza\n"
          ],
          "name": "stdout"
        }
      ]
    },
    {
      "cell_type": "markdown",
      "metadata": {
        "id": "rSP17Gu2raKo",
        "colab_type": "text"
      },
      "source": [
        "## Chapter 6: dictionaries\n",
        "### alien.py\n",
        "* Example of dictionaries and key-pair values"
      ]
    },
    {
      "cell_type": "code",
      "metadata": {
        "id": "L979vhOkrjAQ",
        "colab_type": "code",
        "colab": {
          "base_uri": "https://localhost:8080/",
          "height": 125
        },
        "outputId": "29a73dfa-469e-425c-a260-1966e9d9a176"
      },
      "source": [
        "alien_0 = {\n",
        "    \"color\": \"green\", \n",
        "    \"points\": 5, \n",
        "    \"speed\": \"slow\"}\n",
        "\n",
        "alien_0[\"x_position\"] = 0 \n",
        "alien_0[\"y_position\"] = 25\n",
        "alien_0[\"tmp\"] = True\n",
        "\n",
        "print(alien_0[\"color\"])\n",
        "print(alien_0[\"points\"])\n",
        "print(alien_0)\n",
        "\n",
        "# Modifies the x_increment value based on the speed value\n",
        "if alien_0[\"speed\"] == \"slow\":\n",
        "    x_increment = 1\n",
        "elif alien_0[\"speed\"] == \"medium\":\n",
        "    x_increment = 2\n",
        "else:\n",
        "    x_increment = 3\n",
        "\n",
        "alien_0[\"x_position\"] += x_increment\n",
        "print(alien_0)\n",
        "\n",
        "# Permanently deletes a key-value pair\n",
        "del alien_0[\"tmp\"]\n",
        "print(alien_0)\n",
        "\n",
        "print(alien_0.get(\"tmp\"))"
      ],
      "execution_count": 2,
      "outputs": [
        {
          "output_type": "stream",
          "text": [
            "green\n",
            "5\n",
            "{'color': 'green', 'points': 5, 'speed': 'slow', 'x_position': 0, 'y_position': 25, 'tmp': True}\n",
            "{'color': 'green', 'points': 5, 'speed': 'slow', 'x_position': 1, 'y_position': 25, 'tmp': True}\n",
            "{'color': 'green', 'points': 5, 'speed': 'slow', 'x_position': 1, 'y_position': 25}\n",
            "None\n"
          ],
          "name": "stdout"
        }
      ]
    },
    {
      "cell_type": "markdown",
      "metadata": {
        "id": "bOWz2IRi4LFe",
        "colab_type": "text"
      },
      "source": [
        "### user.py\n",
        "* Uses a for loop to obtain key-value paris from a dictionary\n",
        "* Uses the item() method, which returns a list of key-value pairs"
      ]
    },
    {
      "cell_type": "code",
      "metadata": {
        "id": "ncblQpp8XAS0",
        "colab_type": "code",
        "colab": {
          "base_uri": "https://localhost:8080/",
          "height": 179
        },
        "outputId": "27e67d17-d3ba-4693-bf0d-7effe593d657"
      },
      "source": [
        "user_0 = {\n",
        "    \"username\": \"efermi\",\n",
        "    \"first\": \"enrico\",\n",
        "    \"last\": \"fermi\",\n",
        "}\n",
        "\n",
        "for key, value in user_0.items():\n",
        "    print(f\"\\nKey: {key}\")\n",
        "    print(f\"Value: {value}\")"
      ],
      "execution_count": 6,
      "outputs": [
        {
          "output_type": "stream",
          "text": [
            "\n",
            "Key: username\n",
            "Value: efermi\n",
            "\n",
            "Key: first\n",
            "Value: enrico\n",
            "\n",
            "Key: last\n",
            "Value: fermi\n"
          ],
          "name": "stdout"
        }
      ]
    },
    {
      "cell_type": "markdown",
      "metadata": {
        "id": "kfFzokbjVJ8T",
        "colab_type": "text"
      },
      "source": [
        "### favorite_languages.py\n",
        "* Extracts the keys from the dictionary using the keys() method\n",
        "* Extracts the values from the dictionary using the values() method\n"
      ]
    },
    {
      "cell_type": "code",
      "metadata": {
        "id": "eA4nXfQIVJge",
        "colab_type": "code",
        "colab": {
          "base_uri": "https://localhost:8080/",
          "height": 377
        },
        "outputId": "4b9fbcde-fa40-4e77-cb61-41e893ab5e4f"
      },
      "source": [
        "favorite_languages = {\n",
        "    \"jen\": \"python\",\n",
        "    \"sarah\": \"c\",\n",
        "    \"edward\": \"ruby\",\n",
        "    \"phil\": \"python\",\n",
        "}\n",
        "\n",
        "for name in favorite_languages.keys():\n",
        "    print(name.title())\n",
        "\n",
        "print()\n",
        "\n",
        "# Omitting the .keys() method will produce the same output\n",
        "for name in sorted(favorite_languages):\n",
        "    print(name.title())\n",
        "\n",
        "print()\n",
        "\n",
        "# The values() method focuses on the values from the dictionary\n",
        "for value in favorite_languages.values():\n",
        "    print(value.title())\n",
        "\n",
        "print()\n",
        "\n",
        "# The set() method omits repeats\n",
        "for value in set(favorite_languages.values()):\n",
        "    print(value.title())\n",
        "\n",
        "# A set can be created directly by using braces and commas around iterable data\n",
        "languages = {\"python\", \"ruby\", \"c\", \"python\"}\n",
        "print(f\"\\n{languages}\")"
      ],
      "execution_count": 6,
      "outputs": [
        {
          "output_type": "stream",
          "text": [
            "Jen\n",
            "Sarah\n",
            "Edward\n",
            "Phil\n",
            "\n",
            "Edward\n",
            "Jen\n",
            "Phil\n",
            "Sarah\n",
            "\n",
            "Python\n",
            "C\n",
            "Ruby\n",
            "Python\n",
            "\n",
            "Python\n",
            "C\n",
            "Ruby\n",
            "\n",
            "{'python', 'c', 'ruby'}\n"
          ],
          "name": "stdout"
        }
      ]
    },
    {
      "cell_type": "markdown",
      "metadata": {
        "id": "sD6xCFFjofiy",
        "colab_type": "text"
      },
      "source": [
        "### aliens.py\n",
        "* Creates multiple dictionaries in a for loop and adds them to a list"
      ]
    },
    {
      "cell_type": "code",
      "metadata": {
        "id": "iPGZZbCfovUv",
        "colab_type": "code",
        "colab": {
          "base_uri": "https://localhost:8080/",
          "height": 35
        },
        "cellView": "code",
        "outputId": "ad4f8409-8a5c-4a51-e96c-b1f3721395c5"
      },
      "source": [
        "#@title Default title text\n",
        "aliens = []\n",
        "\n",
        "for alien_number in range(30):\n",
        "    new_alien = {\n",
        "        \"color\": \"green\",\n",
        "        \"points\": 5,\n",
        "        \"speed\": \"slow\",\n",
        "    }\n",
        "    \n",
        "    aliens.append(new_alien)\n",
        "\n",
        "print(f\"Total aliens: {len(aliens)}\")"
      ],
      "execution_count": 3,
      "outputs": [
        {
          "output_type": "stream",
          "text": [
            "Total aliens: 30\n"
          ],
          "name": "stdout"
        }
      ]
    }
  ]
}